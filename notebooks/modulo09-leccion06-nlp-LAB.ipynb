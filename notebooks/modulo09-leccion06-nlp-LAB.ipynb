{
 "cells": [
  {
   "cell_type": "markdown",
   "metadata": {},
   "source": [
    "<div style=\"text-align: center;\">\n",
    "  <img src=\"https://github.com/Hack-io-Data/Imagenes/blob/main/01-LogosHackio/logo_naranja@4x.png?raw=true\" alt=\"esquema\" />\n",
    "</div>\n",
    "\n",
    "\n",
    "# Laboratorio NLP + Sist. Recomendación\n",
    "\n",
    "\n",
    "En este laboratorio, tabrajaras con datos de reseñas de productos para construir un sistema de recomendación que utilice procesamiento de lenguaje natural (NLP) y *machine learning*. El objetivo principal es que analices el contenido textual de las reseñas, clasifiques las opiniones en categorías (positiva, negativa o neutra) y aproveches esta información para personalizar las recomendaciones. El sistema priorizará los productos con mejores reseñas para usuarios específicos y permitirá evaluar si el análisis de sentimientos mejora la calidad de las recomendaciones. Tareas propuestas:\n",
    "\n",
    "\n",
    "**Caso 1: Crear un sistema de recomendación**: Debes generar un sistema de recomendación para priorizar productos con las reseñas para cada usuario. Los pasos que deberás seguir son:    \n",
    "\n",
    "- Estructurar el conjunto de datos\n",
    "\n",
    "- Sistema basado en contenido\n",
    "\n",
    "\n",
    "**Caso 2: Clasificar reseñas en positivas, negativas o neutras** Deberás implementar un modelo para analizar las reseñas textuales y clasificarlas en tres categorías:\n",
    "\n",
    "- Positivas: Si el sentimiento de la reseña es favorable.\n",
    "\n",
    "- Negativas: Si el sentimiento de la reseña es desfavorable.\n",
    "\n",
    "- Neutras: Si la reseña no tiene un sentimiento claro.\n",
    "\t\n",
    "- Pasos :\n",
    "\t- Preprocesamiento de texto: Limpiar las reseñas eliminando caracteres especiales, palabras vacías (stopwords) y realizar lematización.\n",
    "\t\n",
    "\t- Identificar las reseñas positivas, negativas y neutrales. \n",
    "\n",
    "\n",
    "Los datos los tendréis en el [siguiente enlace](https://drive.google.com/drive/u/0/folders/1vK5zESy9KElRhm_utg_lHHXuUArrwWgu) con la descipción de cada una de las columnas.  "
   ]
  },
  {
   "cell_type": "markdown",
   "metadata": {},
   "source": []
  },
  {
   "cell_type": "markdown",
   "metadata": {},
   "source": [
    "---\n",
    "---\n",
    "## Importamos librerias, datos y configuraciones"
   ]
  },
  {
   "cell_type": "code",
   "execution_count": 62,
   "metadata": {},
   "outputs": [
    {
     "name": "stdout",
     "output_type": "stream",
     "text": [
      "The autoreload extension is already loaded. To reload it, use:\n",
      "  %reload_ext autoreload\n"
     ]
    },
    {
     "data": {
      "text/html": [
       "<div>\n",
       "<style scoped>\n",
       "    .dataframe tbody tr th:only-of-type {\n",
       "        vertical-align: middle;\n",
       "    }\n",
       "\n",
       "    .dataframe tbody tr th {\n",
       "        vertical-align: top;\n",
       "    }\n",
       "\n",
       "    .dataframe thead th {\n",
       "        text-align: right;\n",
       "    }\n",
       "</style>\n",
       "<table border=\"1\" class=\"dataframe\">\n",
       "  <thead>\n",
       "    <tr style=\"text-align: right;\">\n",
       "      <th></th>\n",
       "      <th>reviewId</th>\n",
       "      <th>reviewDate</th>\n",
       "      <th>mainDepartment</th>\n",
       "      <th>subDepartment</th>\n",
       "      <th>productName</th>\n",
       "      <th>reviewTitle</th>\n",
       "      <th>reviewStar</th>\n",
       "      <th>reviewText</th>\n",
       "      <th>inconsistentStatus</th>\n",
       "    </tr>\n",
       "  </thead>\n",
       "  <tbody>\n",
       "    <tr>\n",
       "      <th>1014</th>\n",
       "      <td>R14YMQKUW9CFQ</td>\n",
       "      <td>Reviewed in the United States on June 11, 2021</td>\n",
       "      <td>Sports and Outdoors</td>\n",
       "      <td>Outdoor Recreation</td>\n",
       "      <td>Master Lock 8143D Bike Lock Cable with Combina...</td>\n",
       "      <td>Better than no lock at all</td>\n",
       "      <td>1.00</td>\n",
       "      <td>I have been using this to lock up my bike but ...</td>\n",
       "      <td>1</td>\n",
       "    </tr>\n",
       "  </tbody>\n",
       "</table>\n",
       "</div>"
      ],
      "text/plain": [
       "           reviewId                                      reviewDate  \\\n",
       "1014  R14YMQKUW9CFQ  Reviewed in the United States on June 11, 2021   \n",
       "\n",
       "           mainDepartment       subDepartment  \\\n",
       "1014  Sports and Outdoors  Outdoor Recreation   \n",
       "\n",
       "                                            productName  \\\n",
       "1014  Master Lock 8143D Bike Lock Cable with Combina...   \n",
       "\n",
       "                     reviewTitle  reviewStar  \\\n",
       "1014  Better than no lock at all        1.00   \n",
       "\n",
       "                                             reviewText  inconsistentStatus  \n",
       "1014  I have been using this to lock up my bike but ...                   1  "
      ]
     },
     "execution_count": 62,
     "metadata": {},
     "output_type": "execute_result"
    }
   ],
   "source": [
    "%load_ext autoreload\n",
    "%autoreload 2\n",
    "\n",
    "from config import *\n",
    "\n",
    "\n",
    "df = pd.read_csv(f\"{DATOS_RUTA_BASE}/datos.csv\", index_col=0).reset_index(drop=True)\n",
    "df.sample()"
   ]
  },
  {
   "cell_type": "markdown",
   "metadata": {},
   "source": [
    "---\n",
    "---\n",
    "# Caso 1"
   ]
  },
  {
   "cell_type": "markdown",
   "metadata": {},
   "source": [
    "#### vemos si tenemos duplicados o nulos."
   ]
  },
  {
   "cell_type": "code",
   "execution_count": 63,
   "metadata": {},
   "outputs": [
    {
     "data": {
      "text/plain": [
       "0"
      ]
     },
     "execution_count": 63,
     "metadata": {},
     "output_type": "execute_result"
    }
   ],
   "source": [
    "df.duplicated().sum()"
   ]
  },
  {
   "cell_type": "code",
   "execution_count": 64,
   "metadata": {},
   "outputs": [
    {
     "data": {
      "text/plain": [
       "reviewId              0\n",
       "reviewDate            0\n",
       "mainDepartment        0\n",
       "subDepartment         0\n",
       "productName           0\n",
       "reviewTitle           5\n",
       "reviewStar            0\n",
       "reviewText            1\n",
       "inconsistentStatus    0\n",
       "dtype: int64"
      ]
     },
     "execution_count": 64,
     "metadata": {},
     "output_type": "execute_result"
    }
   ],
   "source": [
    "df.isna().sum()"
   ]
  },
  {
   "cell_type": "code",
   "execution_count": 65,
   "metadata": {},
   "outputs": [
    {
     "data": {
      "text/html": [
       "<div>\n",
       "<style scoped>\n",
       "    .dataframe tbody tr th:only-of-type {\n",
       "        vertical-align: middle;\n",
       "    }\n",
       "\n",
       "    .dataframe tbody tr th {\n",
       "        vertical-align: top;\n",
       "    }\n",
       "\n",
       "    .dataframe thead th {\n",
       "        text-align: right;\n",
       "    }\n",
       "</style>\n",
       "<table border=\"1\" class=\"dataframe\">\n",
       "  <thead>\n",
       "    <tr style=\"text-align: right;\">\n",
       "      <th></th>\n",
       "      <th>reviewId</th>\n",
       "      <th>reviewDate</th>\n",
       "      <th>mainDepartment</th>\n",
       "      <th>subDepartment</th>\n",
       "      <th>productName</th>\n",
       "      <th>reviewTitle</th>\n",
       "      <th>reviewStar</th>\n",
       "      <th>reviewText</th>\n",
       "      <th>inconsistentStatus</th>\n",
       "    </tr>\n",
       "  </thead>\n",
       "  <tbody>\n",
       "    <tr>\n",
       "      <th>5580</th>\n",
       "      <td>RAD4IH0H1287X</td>\n",
       "      <td>Reviewed in the United States on August 2, 2021</td>\n",
       "      <td>Sports and Outdoors</td>\n",
       "      <td>Outdoor Recreation</td>\n",
       "      <td>Vont 2 Pack LED Camping Lantern, Super Bright ...</td>\n",
       "      <td>Works really well for how cheap that they are</td>\n",
       "      <td>5.00</td>\n",
       "      <td>These lanterns were super bright and lit up ou...</td>\n",
       "      <td>0</td>\n",
       "    </tr>\n",
       "  </tbody>\n",
       "</table>\n",
       "</div>"
      ],
      "text/plain": [
       "           reviewId                                       reviewDate  \\\n",
       "5580  RAD4IH0H1287X  Reviewed in the United States on August 2, 2021   \n",
       "\n",
       "           mainDepartment       subDepartment  \\\n",
       "5580  Sports and Outdoors  Outdoor Recreation   \n",
       "\n",
       "                                            productName  \\\n",
       "5580  Vont 2 Pack LED Camping Lantern, Super Bright ...   \n",
       "\n",
       "                                        reviewTitle  reviewStar  \\\n",
       "5580  Works really well for how cheap that they are        5.00   \n",
       "\n",
       "                                             reviewText  inconsistentStatus  \n",
       "5580  These lanterns were super bright and lit up ou...                   0  "
      ]
     },
     "execution_count": 65,
     "metadata": {},
     "output_type": "execute_result"
    }
   ],
   "source": [
    "df.sample()"
   ]
  },
  {
   "cell_type": "markdown",
   "metadata": {},
   "source": [
    "## juntamos el texto de las reviews, lo limpiamos, vectorizamos, calculamos su similitud con los demás textos y recomendamos los 5 primeros productos"
   ]
  },
  {
   "cell_type": "code",
   "execution_count": 66,
   "metadata": {},
   "outputs": [
    {
     "name": "stdout",
     "output_type": "stream",
     "text": [
      "Recomendaciones para el producto 'Gildan Men's Crew T-Shirts, Multipack':\n",
      "Product Names -->  5\n",
      "Product Similarity -->  5\n",
      "ZIP -->  <zip object at 0x00000213AEA3AC40>\n"
     ]
    },
    {
     "data": {
      "text/plain": [
       "{\"adidas Men's Adilette Shower Slide\": 0.5267,\n",
       " \"Fruit of the Loom Men's Coolzone Boxer Briefs\": 0.5056,\n",
       " 'Amazon Basics Extra Thick Exercise Yoga Gym Floor Mat with Carrying Strap - 74 x 24 x .5 Inches, Black': 0.4575,\n",
       " \"Carhartt Men's Knit Cuffed Beanie, Black/White, One Size\": 0.3415,\n",
       " 'Utopia Towels Grey Towel Set, 2 Bath Towels, 2 Hand Towels, and 4 Washcloths, 600 GSM Ring Spun Cotton Highly Absorbent Towels for Bathroom, Shower Towel, (Pack of 8)': 0.3329}"
      ]
     },
     "metadata": {},
     "output_type": "display_data"
    },
    {
     "data": {
      "text/plain": [
       "<Axes: >"
      ]
     },
     "execution_count": 66,
     "metadata": {},
     "output_type": "execute_result"
    },
    {
     "data": {
      "image/png": "[encoded data removed]",
      "text/plain": [
       "<Figure size 800x550 with 1 Axes>"
      ]
     },
     "metadata": {},
     "output_type": "display_data"
    }
   ],
   "source": [
    "# 2. Preparar los datos combinando columnas clave\n",
    "df['combined_features'] = (\n",
    "    df['reviewTitle'].fillna('') + ' ' +\n",
    "    df['reviewText'].fillna('') + ' '\n",
    "    )\n",
    "\n",
    "sup_nlp.generar_columna_limpia(dataframe=df, columna='combined_features', nueva_columna='cleaned_combined_features')\n",
    "\n",
    "\n",
    "vectorizer = TfidfVectorizer(stop_words='english')\n",
    "tfidf_matrix = vectorizer.fit_transform(df['cleaned_combined_features'])\n",
    "\n",
    "\n",
    "cosine_sim = cosine_similarity(tfidf_matrix)\n",
    "\n",
    "\n",
    "def recomendar_producto(nombre_producto, cosine_sim_=cosine_sim):\n",
    "    idx = df[df['productName'] == nombre_producto].index[0]  # Obtener índice del producto\n",
    "    sim_scores = list(enumerate(cosine_sim_[idx]))  # Obtener las similitudes\n",
    "    sim_scores = sorted(sim_scores, key=lambda x: x[1], reverse=True)  # Ordenar por similitud\n",
    "    sim_scores = sim_scores[1:6]  # Excluir el producto actual y tomar los top 5\n",
    "    product_names = [df['productName'].iloc[i[0]] for i in sim_scores]\n",
    "    print(\"Product Names --> \",len(product_names))\n",
    "\n",
    "    product_similarity = [round(i[1], 4) for i in sim_scores]\n",
    "    print(\"Product Similarity --> \", len(product_similarity))\n",
    "    \n",
    "    comprimido = zip(product_names, product_similarity)\n",
    "    print(\"ZIP --> \", comprimido)\n",
    "\n",
    "    resultado = {tuple_[0]:tuple_[1] for tuple_ in comprimido}\n",
    "    \n",
    "    return resultado\n",
    "\n",
    "# 6. Probar la recomendación\n",
    "producto_ejemplo = \"Gildan Men's Crew T-Shirts, Multipack\"\n",
    "print(f\"Recomendaciones para el producto '{producto_ejemplo}':\")\n",
    "\n",
    "recomended_products = recomendar_producto(producto_ejemplo, cosine_sim)\n",
    "\n",
    "display(recomended_products)\n",
    "\n",
    "sns.barplot(x=recomended_products.keys(), y=recomended_products.values())"
   ]
  }
 ],
 "metadata": {
  "kernelspec": {
   "display_name": "dev",
   "language": "python",
   "name": "python3"
  },
  "language_info": {
   "codemirror_mode": {
    "name": "ipython",
    "version": 3
   },
   "file_extension": ".py",
   "mimetype": "text/x-python",
   "name": "python",
   "nbconvert_exporter": "python",
   "pygments_lexer": "ipython3",
   "version": "3.11.8"
  }
 },
 "nbformat": 4,
 "nbformat_minor": 2
}
